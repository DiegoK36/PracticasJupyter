{
 "cells": [
  {
   "cell_type": "markdown",
   "id": "0b034bc4-eebf-4d11-84a0-8bfd21d89e23",
   "metadata": {},
   "source": [
    "<!-- PROFILE LINK -->\n",
    "\n",
    "<h1 style = \"text-align:center; font-size: 30px\">PROGRAMACIÓN CONCURRENTE Y DISTRIBUIDA</h1>\n",
    "<a href =\"https://github.com/diegok36\">\n",
    "<img src=\"https://avatars.githubusercontent.com/u/99168948?v=4\" style=\"float:left;vertical-align:centre\" width=\"110\" height=\"110\" title = \"Diego Rodriguez Sanz 22167749\">\n",
    "<a href =\"https://github.com/diegok36?tab=repositories\">\n",
    "<img src=\"https://media-exp1.licdn.com/dms/image/C4D0BAQEu_Aa76fcmPw/company-logo_200_200/0/1630998679429?e=2159024400&v=beta&t=2feC9GG7RWCWizTqsK5HzDWB1TL2DOQuAVwnMf6FFvk\" title = \"M41\" alt=\"UE\" width=\"110\" height=\"110\" style=\"float:right;vertical-align:centre\">"
   ]
  },
  {
   "cell_type": "markdown",
   "id": "cf5b06dc-e51e-4758-84b2-827bfbff49c0",
   "metadata": {},
   "source": [
    "# Hands on 01"
   ]
  },
  {
   "cell_type": "markdown",
   "id": "a48aefc6-ea8f-4272-881d-3e7d8f796628",
   "metadata": {},
   "source": [
    "## Env. Setup, important commands."
   ]
  },
  {
   "cell_type": "code",
   "execution_count": 1,
   "id": "e14b3d1a-c19b-4d70-873c-97f241ab2da6",
   "metadata": {
    "tags": []
   },
   "outputs": [
    {
     "name": "stdout",
     "output_type": "stream",
     "text": [
      " El volumen de la unidad C es Windows\n",
      " El n£mero de serie del volumen es: DA41-726D\n",
      "\n",
      " Directorio de C:\\Users\\diego\\Python\n",
      "\n",
      "\n",
      " Directorio de C:\\Users\\diego\\Python\n",
      "\n",
      "\n",
      " Directorio de C:\\Users\\diego\\Python\n",
      "\n"
     ]
    },
    {
     "name": "stderr",
     "output_type": "stream",
     "text": [
      "No se encuentra el archivo\n"
     ]
    }
   ],
   "source": [
    "ls # list files"
   ]
  },
  {
   "cell_type": "code",
   "execution_count": 2,
   "id": "b92219cc-253c-4b0e-93be-23d7f81daaa5",
   "metadata": {},
   "outputs": [
    {
     "data": {
      "text/plain": [
       "'C:\\\\Users\\\\diego\\\\Python'"
      ]
     },
     "execution_count": 2,
     "metadata": {},
     "output_type": "execute_result"
    }
   ],
   "source": [
    "pwd #where I´m"
   ]
  },
  {
   "cell_type": "code",
   "execution_count": 3,
   "id": "c3b2a8ec-f050-4332-831c-3b0126ae4756",
   "metadata": {
    "tags": []
   },
   "outputs": [
    {
     "name": "stderr",
     "output_type": "stream",
     "text": [
      "fatal: not a git repository (or any of the parent directories): .git\n"
     ]
    }
   ],
   "source": [
    "!git status # Status info"
   ]
  },
  {
   "cell_type": "code",
   "execution_count": 4,
   "id": "5cef61c8-702d-4058-b239-da142a0e0c00",
   "metadata": {},
   "outputs": [],
   "source": [
    "import os"
   ]
  },
  {
   "cell_type": "code",
   "execution_count": null,
   "id": "cd6849b0-41c9-4809-8a53-7f81b2b2ef0e",
   "metadata": {},
   "outputs": [
    {
     "data": {
      "text/plain": [
       "16"
      ]
     },
     "execution_count": 5,
     "metadata": {},
     "output_type": "execute_result"
    }
   ],
   "source": [
    "os.cpu_count() # get total cores"
   ]
  },
  {
   "cell_type": "code",
   "execution_count": null,
   "id": "a1e876ee-fe84-4d02-8774-8e238bf9bda2",
   "metadata": {},
   "outputs": [
    {
     "data": {
      "text/plain": [
       "16608"
      ]
     },
     "execution_count": 6,
     "metadata": {},
     "output_type": "execute_result"
    }
   ],
   "source": [
    "os.getpid() #get process id"
   ]
  },
  {
   "cell_type": "code",
   "execution_count": null,
   "id": "b45e6634-3e21-47bb-a4a8-2e322f0b236b",
   "metadata": {},
   "outputs": [],
   "source": [
    "import platform as pl"
   ]
  },
  {
   "cell_type": "code",
   "execution_count": 11,
   "id": "b4d5370c-de19-410d-84fd-096acf9ffd24",
   "metadata": {},
   "outputs": [
    {
     "data": {
      "text/plain": [
       "'3.10.8'"
      ]
     },
     "execution_count": 11,
     "metadata": {},
     "output_type": "execute_result"
    }
   ],
   "source": [
    "pl.python_version()"
   ]
  },
  {
   "cell_type": "code",
   "execution_count": null,
   "id": "05de0e3c-49ae-462c-87ad-af7a7ca93329",
   "metadata": {},
   "outputs": [],
   "source": []
  }
 ],
 "metadata": {
  "kernelspec": {
   "display_name": "Python 3 (ipykernel)",
   "language": "python",
   "name": "python3"
  },
  "language_info": {
   "codemirror_mode": {
    "name": "ipython",
    "version": 3
   },
   "file_extension": ".py",
   "mimetype": "text/x-python",
   "name": "python",
   "nbconvert_exporter": "python",
   "pygments_lexer": "ipython3",
   "version": "3.10.8"
  }
 },
 "nbformat": 4,
 "nbformat_minor": 5
}
