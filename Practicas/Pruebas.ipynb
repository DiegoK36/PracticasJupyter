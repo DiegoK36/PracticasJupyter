{
 "cells": [
  {
   "cell_type": "code",
   "execution_count": 5,
   "id": "159fd377-4f17-475e-bf9f-dfdbe33eb898",
   "metadata": {},
   "outputs": [],
   "source": [
    "    def sec_mult(A, B): # f() que calcula la mult. en secuencial, como toda la vida se ha hecho \n",
    "        C = [[0] * n_col_B for i in range(n_fil_A)] # Crear y poblar la matrix  C = A*B\n",
    "        for i in range(n_fil_A): # Hago la multiplicacion de AxB = C, i para iterar sobre las filas de A\n",
    "            for j in range(n_col_B): # j para iterar sobre las columnas de B\n",
    "                for k in range(n_col_A): # k para iterar en C\n",
    "                    C[i][j] += A[i][k] * B[k][j] # Aqui se hace la multiplicación y guardo en C.\n",
    "        return C"
   ]
  },
  {
   "cell_type": "code",
   "execution_count": 4,
   "id": "26a777ef-7fcd-4a4b-b760-e36431c17151",
   "metadata": {},
   "outputs": [],
   "source": [
    "import random # Para generar num. aleatorios en la A y B \n",
    "import math\n",
    "import multiprocessing as mp # Para trabajar en paralelo\n",
    "import time"
   ]
  },
  {
   "cell_type": "code",
   "execution_count": 6,
   "id": "3e0f274f-11a8-45c4-bbd4-2373b97f6b5d",
   "metadata": {},
   "outputs": [
    {
     "name": "stdout",
     "output_type": "stream",
     "text": [
      "\n",
      "\n",
      "Matriz  A y B se han multiplicado con exito en SECUENCIAL ha tardado  0.0\n"
     ]
    }
   ],
   "source": [
    "            A = [[random.randint(0,215) for i in range(4)] for j in range(4)] # Genero A[21535220][6]con num. aleatorios del 0 al 215, ver excel \n",
    "            B = [[random.randint(0,215) for i in range(4)] for j in range(4)] # Genero B[6][21535220]con num. aleatorios del 0 al 215, ver excel\n",
    "    \n",
    "            n_fil_A = len(A) # Obtengo num de filas de A \n",
    "            n_col_A = len(A[0]) # Obtengo num de colunmas de A \n",
    "            n_fil_B = len(B) # Obtengo num de filas de B\n",
    "            n_col_B = len(B[0]) # # Obtengo num de filas de B\n",
    "    \n",
    "            if n_col_A != n_fil_B: raise Exception('Dimensiones no validas') # Compruebo que se puedan multiplicar A y B\n",
    "    \n",
    "            inicioS = time.time()\n",
    "            sec_mult(A, B) # Ejecuto multiplicacion secuencial\n",
    "            finS = time.time()\n",
    "            \n",
    "            print('\\n\\nMatriz  A y B se han multiplicado con exito en SECUENCIAL ha tardado ', finS-inicioS)"
   ]
  },
  {
   "cell_type": "code",
   "execution_count": null,
   "id": "105fcff9-31f1-41ab-9ce5-8c7d6b884700",
   "metadata": {},
   "outputs": [],
   "source": [
    "random.randint(0,215)"
   ]
  }
 ],
 "metadata": {
  "kernelspec": {
   "display_name": "Python 3 (ipykernel)",
   "language": "python",
   "name": "python3"
  },
  "language_info": {
   "codemirror_mode": {
    "name": "ipython",
    "version": 3
   },
   "file_extension": ".py",
   "mimetype": "text/x-python",
   "name": "python",
   "nbconvert_exporter": "python",
   "pygments_lexer": "ipython3",
   "version": "3.9.13"
  }
 },
 "nbformat": 4,
 "nbformat_minor": 5
}
