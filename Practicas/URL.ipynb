{
 "cells": [
  {
   "cell_type": "code",
   "execution_count": 6,
   "id": "9d0d6f68-685e-4e47-b051-4b971a853f4e",
   "metadata": {},
   "outputs": [],
   "source": [
    "import socket as sc"
   ]
  },
  {
   "cell_type": "code",
   "execution_count": 7,
   "id": "f0ae66a9-bed6-4095-9c0f-226f80cfacf1",
   "metadata": {},
   "outputs": [
    {
     "data": {
      "text/plain": [
       "'34.98.96.131'"
      ]
     },
     "execution_count": 7,
     "metadata": {},
     "output_type": "execute_result"
    }
   ],
   "source": [
    "sc.gethostbyname('www.universidadeuropea.es')"
   ]
  },
  {
   "cell_type": "code",
   "execution_count": 2,
   "id": "7c5c4ddc-d728-45b5-92a4-4c70db1d45bc",
   "metadata": {},
   "outputs": [
    {
     "ename": "NameError",
     "evalue": "name 'sc' is not defined",
     "output_type": "error",
     "traceback": [
      "\u001b[1;31m---------------------------------------------------------------------------\u001b[0m",
      "\u001b[1;31mNameError\u001b[0m                                 Traceback (most recent call last)",
      "\u001b[1;32m~\\AppData\\Local\\Temp\\ipykernel_13544\\2464292862.py\u001b[0m in \u001b[0;36m<module>\u001b[1;34m\u001b[0m\n\u001b[1;32m----> 1\u001b[1;33m \u001b[0msc\u001b[0m\u001b[1;33m.\u001b[0m\u001b[0mgethostname\u001b[0m\u001b[1;33m(\u001b[0m\u001b[1;33m)\u001b[0m\u001b[1;33m\u001b[0m\u001b[1;33m\u001b[0m\u001b[0m\n\u001b[0m",
      "\u001b[1;31mNameError\u001b[0m: name 'sc' is not defined"
     ]
    }
   ],
   "source": [
    "sc.gethostname()"
   ]
  },
  {
   "cell_type": "code",
   "execution_count": null,
   "id": "a2e8ce96-361d-48e1-abdb-22b6ccaa0acd",
   "metadata": {},
   "outputs": [],
   "source": [
    "sc.connect(('www.universidadeuropea.es', 3424))"
   ]
  },
  {
   "cell_type": "code",
   "execution_count": null,
   "id": "cb177ee6-3de7-4659-b159-c1dc42406af2",
   "metadata": {},
   "outputs": [],
   "source": [
    "from dns import resolver,reversename\n",
    "addr=reversename.from_address(\"192.168.0.1\")\n",
    "str(resolver.query(addr,\"PTR\")[0])"
   ]
  }
 ],
 "metadata": {
  "kernelspec": {
   "display_name": "Python 3 (ipykernel)",
   "language": "python",
   "name": "python3"
  },
  "language_info": {
   "codemirror_mode": {
    "name": "ipython",
    "version": 3
   },
   "file_extension": ".py",
   "mimetype": "text/x-python",
   "name": "python",
   "nbconvert_exporter": "python",
   "pygments_lexer": "ipython3",
   "version": "3.9.13"
  }
 },
 "nbformat": 4,
 "nbformat_minor": 5
}
