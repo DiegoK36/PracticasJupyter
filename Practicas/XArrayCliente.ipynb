{
 "cells": [
  {
   "cell_type": "code",
   "execution_count": null,
   "id": "81569251-2bd1-42c5-8924-b0a4d5bc2b69",
   "metadata": {},
   "outputs": [],
   "source": [
    "import socket\n",
    "\n",
    "HOST = 'localhost'\n",
    "PORT = 50007\n",
    "s = socket.socket(socket.AF_INET, socket.SOCK_STREAM)\n",
    "s.bind((HOST, PORT))\n",
    "s.listen(1)\n",
    "conn, addr = s.accept()\n",
    "print ('Connected by', addr)\n",
    "while 1:\n",
    "    data = conn.recv(4096)\n",
    "    if not data: break\n",
    "    conn.send(data)\n",
    "conn.close()"
   ]
  },
  {
   "cell_type": "code",
   "execution_count": null,
   "id": "edaf7d88-81aa-48d6-81e5-406f367f823a",
   "metadata": {},
   "outputs": [],
   "source": [
    "import socket, pickle\n",
    "\n",
    "HOST = 'localhost'\n",
    "PORT = 50007\n",
    "s = socket.socket(socket.AF_INET, socket.SOCK_STREAM)\n",
    "s.connect((HOST, PORT))\n",
    "arr = ([1,2,3,4,5,6],[1,2,3,4,5,6])\n",
    "data_string = pickle.dumps(arr)\n",
    "s.send(data_string)\n",
    "\n",
    "data = s.recv(4096)\n",
    "data_arr = pickle.loads(data)\n",
    "s.close()\n",
    "print ('Received', repr(data_arr))"
   ]
  },
  {
   "cell_type": "code",
   "execution_count": null,
   "id": "39784596-eca4-4da3-83de-8f656a2764a8",
   "metadata": {},
   "outputs": [],
   "source": []
  }
 ],
 "metadata": {
  "kernelspec": {
   "display_name": "Python 3 (ipykernel)",
   "language": "python",
   "name": "python3"
  },
  "language_info": {
   "codemirror_mode": {
    "name": "ipython",
    "version": 3
   },
   "file_extension": ".py",
   "mimetype": "text/x-python",
   "name": "python",
   "nbconvert_exporter": "python",
   "pygments_lexer": "ipython3",
   "version": "3.10.8"
  }
 },
 "nbformat": 4,
 "nbformat_minor": 5
}
